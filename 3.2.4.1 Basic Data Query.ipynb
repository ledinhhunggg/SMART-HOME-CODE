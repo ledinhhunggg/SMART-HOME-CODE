{
 "cells": [
  {
   "cell_type": "code",
   "execution_count": 1,
   "metadata": {},
   "outputs": [
    {
     "ename": "OperationalError",
     "evalue": "no such table: PersonInfo",
     "output_type": "error",
     "traceback": [
      "\u001b[0;31m---------------------------------------------------------------------------\u001b[0m",
      "\u001b[0;31mOperationalError\u001b[0m                          Traceback (most recent call last)",
      "\u001b[0;32m<ipython-input-1-a9ce6df9d5f3>\u001b[0m in \u001b[0;36m<module>\u001b[0;34m\u001b[0m\n\u001b[1;32m      4\u001b[0m     \u001b[0mc\u001b[0m \u001b[0;34m=\u001b[0m \u001b[0mconn\u001b[0m\u001b[0;34m.\u001b[0m\u001b[0mcursor\u001b[0m\u001b[0;34m(\u001b[0m\u001b[0;34m)\u001b[0m\u001b[0;34m\u001b[0m\u001b[0;34m\u001b[0m\u001b[0m\n\u001b[1;32m      5\u001b[0m \u001b[0;34m\u001b[0m\u001b[0m\n\u001b[0;32m----> 6\u001b[0;31m     \u001b[0mc\u001b[0m\u001b[0;34m.\u001b[0m\u001b[0mexecute\u001b[0m\u001b[0;34m(\u001b[0m\u001b[0;34m\"SELECT * FROM PersonInfo\"\u001b[0m\u001b[0;34m)\u001b[0m\u001b[0;34m\u001b[0m\u001b[0;34m\u001b[0m\u001b[0m\n\u001b[0m\u001b[1;32m      7\u001b[0m \u001b[0;34m\u001b[0m\u001b[0m\n\u001b[1;32m      8\u001b[0m     \u001b[0mtable\u001b[0m \u001b[0;34m=\u001b[0m \u001b[0mc\u001b[0m\u001b[0;34m.\u001b[0m\u001b[0mfetchall\u001b[0m\u001b[0;34m(\u001b[0m\u001b[0;34m)\u001b[0m\u001b[0;34m\u001b[0m\u001b[0;34m\u001b[0m\u001b[0m\n",
      "\u001b[0;31mOperationalError\u001b[0m: no such table: PersonInfo"
     ]
    }
   ],
   "source": [
    "import sqlite3 as db\n",
    "\n",
    "with db.connect(\"test.db\") as conn:\n",
    "    c = conn.cursor()\n",
    "    \n",
    "    c.execute(\"SELECT * FROM PersonInfo\")\n",
    "    \n",
    "    table = c.fetchall()\n",
    "    for row in table:\n",
    "        print(row)"
   ]
  },
  {
   "cell_type": "code",
   "execution_count": null,
   "metadata": {},
   "outputs": [],
   "source": [
    "import sqlite3 as db\n",
    "\n",
    "with db.connect(\"test.db\") as conn:\n",
    "    conn.row_factory = db.Row\n",
    "    \n",
    "    c = conn.cursor()\n",
    "    c.execute(\"SELECT * FROM PersonInfo\")\n",
    "\n",
    "    row = c.fetchone()\n",
    "\n",
    "    print(type(row))\n",
    "\n",
    "    column_name = row.keys()\n",
    "    column_len = len(row)\n",
    "    \n",
    "    print(\"column: %s, \"%column_name, end='')\n",
    "    print(\"len: %d\\n\"%column_len)\n",
    "    \n",
    "    print(row['name'], row['id'], row['age'], row['addr'])\n",
    "\n",
    "    for row in c.fetchall():\n",
    "        print(row['name'], row['id'], row['age'], row['addr'])"
   ]
  },
  {
   "cell_type": "code",
   "execution_count": 2,
   "metadata": {},
   "outputs": [
    {
     "ename": "OperationalError",
     "evalue": "no such table: PersonInfo",
     "output_type": "error",
     "traceback": [
      "\u001b[0;31m---------------------------------------------------------------------------\u001b[0m",
      "\u001b[0;31mOperationalError\u001b[0m                          Traceback (most recent call last)",
      "\u001b[0;32m<ipython-input-2-ac3a0296aad3>\u001b[0m in \u001b[0;36m<module>\u001b[0;34m\u001b[0m\n\u001b[1;32m      5\u001b[0m     \u001b[0mc\u001b[0m \u001b[0;34m=\u001b[0m \u001b[0mconn\u001b[0m\u001b[0;34m.\u001b[0m\u001b[0mcursor\u001b[0m\u001b[0;34m(\u001b[0m\u001b[0;34m)\u001b[0m\u001b[0;34m\u001b[0m\u001b[0;34m\u001b[0m\u001b[0m\n\u001b[1;32m      6\u001b[0m \u001b[0;34m\u001b[0m\u001b[0m\n\u001b[0;32m----> 7\u001b[0;31m     \u001b[0mc\u001b[0m\u001b[0;34m.\u001b[0m\u001b[0mexecute\u001b[0m\u001b[0;34m(\u001b[0m\u001b[0;34m\"SELECT * FROM PersonInfo WHERE age >= 20\"\u001b[0m\u001b[0;34m)\u001b[0m\u001b[0;34m\u001b[0m\u001b[0;34m\u001b[0m\u001b[0m\n\u001b[0m\u001b[1;32m      8\u001b[0m \u001b[0;34m\u001b[0m\u001b[0m\n\u001b[1;32m      9\u001b[0m     \u001b[0mprint\u001b[0m\u001b[0;34m(\u001b[0m\u001b[0;34m\"First Result:\"\u001b[0m\u001b[0;34m)\u001b[0m\u001b[0;34m\u001b[0m\u001b[0;34m\u001b[0m\u001b[0m\n",
      "\u001b[0;31mOperationalError\u001b[0m: no such table: PersonInfo"
     ]
    }
   ],
   "source": [
    "import sqlite3 as db\n",
    "\n",
    "with db.connect(\"test.db\") as conn:\n",
    "    conn.row_factory = db.Row \n",
    "    c = conn.cursor()\n",
    "    \n",
    "    c.execute(\"SELECT * FROM PersonInfo WHERE age >= 20\")\n",
    "    \n",
    "    print(\"First Result:\")\n",
    "    for r in c.fetchall():\n",
    "        print(tuple(r))\n",
    "        \n",
    "    c.execute(\"SELECT * FROM PersonInfo WHERE age < 30 and name='chanmin'\")\n",
    "\n",
    "    print(\"\\nSecond Result:\")\n",
    "    for r in c.fetchall():\n",
    "        print(tuple(r))"
   ]
  },
  {
   "cell_type": "code",
   "execution_count": 3,
   "metadata": {},
   "outputs": [
    {
     "ename": "OperationalError",
     "evalue": "no such table: PersonInfo",
     "output_type": "error",
     "traceback": [
      "\u001b[0;31m---------------------------------------------------------------------------\u001b[0m",
      "\u001b[0;31mOperationalError\u001b[0m                          Traceback (most recent call last)",
      "\u001b[0;32m<ipython-input-3-29b1c97c7434>\u001b[0m in \u001b[0;36m<module>\u001b[0;34m\u001b[0m\n\u001b[1;32m      4\u001b[0m     \u001b[0mc\u001b[0m \u001b[0;34m=\u001b[0m \u001b[0mconn\u001b[0m\u001b[0;34m.\u001b[0m\u001b[0mcursor\u001b[0m\u001b[0;34m(\u001b[0m\u001b[0;34m)\u001b[0m\u001b[0;34m\u001b[0m\u001b[0;34m\u001b[0m\u001b[0m\n\u001b[1;32m      5\u001b[0m \u001b[0;34m\u001b[0m\u001b[0m\n\u001b[0;32m----> 6\u001b[0;31m     \u001b[0mc\u001b[0m\u001b[0;34m.\u001b[0m\u001b[0mexecute\u001b[0m\u001b[0;34m(\u001b[0m\u001b[0;34m\"SELECT * FROM PersonInfo WHERE name='chanmin'\"\u001b[0m\u001b[0;34m)\u001b[0m\u001b[0;34m\u001b[0m\u001b[0;34m\u001b[0m\u001b[0m\n\u001b[0m\u001b[1;32m      7\u001b[0m \u001b[0;34m\u001b[0m\u001b[0m\n\u001b[1;32m      8\u001b[0m     \u001b[0mprint\u001b[0m\u001b[0;34m(\u001b[0m\u001b[0;34m\"Befor Result:\"\u001b[0m\u001b[0;34m)\u001b[0m\u001b[0;34m\u001b[0m\u001b[0;34m\u001b[0m\u001b[0m\n",
      "\u001b[0;31mOperationalError\u001b[0m: no such table: PersonInfo"
     ]
    }
   ],
   "source": [
    "import sqlite3 as db\n",
    "\n",
    "with db.connect(\"test.db\") as conn:\n",
    "    c = conn.cursor()\n",
    "    \n",
    "    c.execute(\"SELECT * FROM PersonInfo WHERE name='chanmin'\")\n",
    "\n",
    "    print(\"Befor Result:\")\n",
    "    for r in c.fetchall():\n",
    "        print(r)\n",
    "\n",
    "    c.execute(\"UPDATE PersonInfo SET age=45, id=10 WHERE name='chanmin'\")\n",
    "    conn.commit()\n",
    "            \n",
    "    c.execute(\"SELECT * FROM PersonInfo WHERE name='chanmin'\")\n",
    "\n",
    "    print(\"\\nAfter Result:\")\n",
    "    for r in c.fetchall():\n",
    "        print(r)"
   ]
  },
  {
   "cell_type": "code",
   "execution_count": 4,
   "metadata": {},
   "outputs": [
    {
     "ename": "OperationalError",
     "evalue": "no such table: PersonInfo",
     "output_type": "error",
     "traceback": [
      "\u001b[0;31m---------------------------------------------------------------------------\u001b[0m",
      "\u001b[0;31mOperationalError\u001b[0m                          Traceback (most recent call last)",
      "\u001b[0;32m<ipython-input-4-0973583a8143>\u001b[0m in \u001b[0;36m<module>\u001b[0;34m\u001b[0m\n\u001b[1;32m      4\u001b[0m     \u001b[0mc\u001b[0m \u001b[0;34m=\u001b[0m \u001b[0mconn\u001b[0m\u001b[0;34m.\u001b[0m\u001b[0mcursor\u001b[0m\u001b[0;34m(\u001b[0m\u001b[0;34m)\u001b[0m\u001b[0;34m\u001b[0m\u001b[0;34m\u001b[0m\u001b[0m\n\u001b[1;32m      5\u001b[0m \u001b[0;34m\u001b[0m\u001b[0m\n\u001b[0;32m----> 6\u001b[0;31m     \u001b[0mc\u001b[0m\u001b[0;34m.\u001b[0m\u001b[0mexecute\u001b[0m\u001b[0;34m(\u001b[0m\u001b[0;34m\"SELECT * FROM PersonInfo\"\u001b[0m\u001b[0;34m)\u001b[0m\u001b[0;34m\u001b[0m\u001b[0;34m\u001b[0m\u001b[0m\n\u001b[0m\u001b[1;32m      7\u001b[0m \u001b[0;34m\u001b[0m\u001b[0m\n\u001b[1;32m      8\u001b[0m     \u001b[0mprint\u001b[0m\u001b[0;34m(\u001b[0m\u001b[0;34m\"Befor Result:\"\u001b[0m\u001b[0;34m)\u001b[0m\u001b[0;34m\u001b[0m\u001b[0;34m\u001b[0m\u001b[0m\n",
      "\u001b[0;31mOperationalError\u001b[0m: no such table: PersonInfo"
     ]
    }
   ],
   "source": [
    "import sqlite3 as db\n",
    "\n",
    "with db.connect(\"test.db\") as conn:\n",
    "    c = conn.cursor()\n",
    "\n",
    "    c.execute(\"SELECT * FROM PersonInfo\")\n",
    "\n",
    "    print(\"Befor Result:\")\n",
    "    for r in c.fetchall():\n",
    "        print(r)\n",
    "    \n",
    "    c.execute(\"DELETE FROM PersonInfo WHERE age >= 20 and age < 45\")\n",
    "    conn.commit()\n",
    "    \n",
    "    c.execute(\"SELECT * FROM PersonInfo\")\n",
    "\n",
    "    print(\"\\nAfter Result:\")\n",
    "    for r in c.fetchall():\n",
    "        print(r)\n",
    "\n",
    "    c.execute(\"DELETE FROM PersonInfo\")\n",
    "    conn.commit()\n",
    "    \n",
    "    c.execute(\"SELECT * FROM PersonInfo\")\n",
    "    \n",
    "    print(\"\\nLast Result:\")\n",
    "    for r in c.fetchall():\n",
    "        print(r)"
   ]
  },
  {
   "cell_type": "code",
   "execution_count": 5,
   "metadata": {},
   "outputs": [
    {
     "name": "stdout",
     "output_type": "stream",
     "text": [
      "not drop table...\n",
      "create table...\n"
     ]
    }
   ],
   "source": [
    "import sqlite3 as db\n",
    "\n",
    "with db.connect(\"test.db\") as conn:\n",
    "    try:\n",
    "        conn.execute(\"DROP TABLE PersonInfo\")\n",
    "        conn.commit()\n",
    "        print(\"drop table...\")\n",
    "    except db.OperationalError:\n",
    "        print(\"not drop table...\")\n",
    "\n",
    "    try:   \n",
    "        conn.execute(\"\"\"CREATE TABLE PersonInfo\n",
    "                    (id INTEGER PRIMARY KEY,\n",
    "                    name TEXT UNIQUE NOT NULL,\n",
    "                    age INTEGER CHECK(age > 18),\n",
    "                    addr TEXT)\"\"\")\n",
    "        print(\"create table...\")\n",
    "    except db.OperationalError:\n",
    "        print(\"not create table\")"
   ]
  },
  {
   "cell_type": "code",
   "execution_count": null,
   "metadata": {},
   "outputs": [],
   "source": []
  }
 ],
 "metadata": {
  "kernelspec": {
   "display_name": "Python 3",
   "language": "python",
   "name": "python3"
  },
  "language_info": {
   "codemirror_mode": {
    "name": "ipython",
    "version": 3
   },
   "file_extension": ".py",
   "mimetype": "text/x-python",
   "name": "python",
   "nbconvert_exporter": "python",
   "pygments_lexer": "ipython3",
   "version": "3.6.9"
  }
 },
 "nbformat": 4,
 "nbformat_minor": 4
}
