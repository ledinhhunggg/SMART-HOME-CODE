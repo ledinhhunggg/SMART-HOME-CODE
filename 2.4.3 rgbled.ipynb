{
 "cells": [
  {
   "cell_type": "code",
   "execution_count": 1,
   "metadata": {},
   "outputs": [],
   "source": [
    "from pop import PwmController\n",
    "import time\n",
    "\n",
    "pwm = PwmController()\n",
    "pwm.init()\n",
    "pwm.setChannel(0)\n",
    "pwm.setFreq(50)\n",
    "for i in range(10):\n",
    "    pwm.setDuty(i*10)\n",
    "    time.sleep(0.5)\n"
   ]
  },
  {
   "cell_type": "code",
   "execution_count": null,
   "metadata": {},
   "outputs": [],
   "source": [
    "from pop import PwmController\n",
    "import time\n",
    "\n",
    "pwm = PwmController()\n",
    "pwm.init()\n",
    "pwm.setChannel(-1)\n",
    "pwm.setFreq(50)\n",
    "\n",
    "pwm.setChannel(0)\n",
    "for i in range(10):\n",
    "    pwm.setDuty(i*10)\n",
    "    time.sleep(0.5)\n",
    "pwm.setDuty(0)\n",
    "\n",
    "pwm.setChannel(1)\n",
    "for i in range(10):\n",
    "    pwm.setDuty(i*10)\n",
    "    time.sleep(0.5)\n",
    "pwm.setDuty(0)\n",
    "\n",
    "pwm.setChannel(2)\n",
    "for i in range(10):\n",
    "    pwm.setDuty(i*10)\n",
    "    time.sleep(0.5)\n",
    "pwm.setDuty(0)\n"
   ]
  },
  {
   "cell_type": "code",
   "execution_count": null,
   "metadata": {},
   "outputs": [],
   "source": []
  }
 ],
 "metadata": {
  "kernelspec": {
   "display_name": "Python 3",
   "language": "python",
   "name": "python3"
  },
  "language_info": {
   "codemirror_mode": {
    "name": "ipython",
    "version": 3
   },
   "file_extension": ".py",
   "mimetype": "text/x-python",
   "name": "python",
   "nbconvert_exporter": "python",
   "pygments_lexer": "ipython3",
   "version": "3.6.9"
  }
 },
 "nbformat": 4,
 "nbformat_minor": 4
}
