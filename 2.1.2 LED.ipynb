{
 "cells": [
  {
   "cell_type": "code",
   "execution_count": null,
   "metadata": {},
   "outputs": [],
   "source": [
    "from pop import Led\n",
    "import time \n",
    "\n",
    "leds = Led(23)   \n",
    "\n",
    "leds.on()\n",
    "time.sleep(1)\n",
    "leds.off()\n"
   ]
  },
  {
   "cell_type": "code",
   "execution_count": null,
   "metadata": {},
   "outputs": [],
   "source": [
    "from pop import Led\n",
    "import time \n",
    "\n",
    "leds = [Led(23), Led(24), Led(25), Led(27)]    \n",
    "\n",
    "while True:\n",
    "    for led in leds:\n",
    "        led.on()\n",
    "        time.sleep(0.1)\n",
    "\n",
    "    for led in leds[-1::-1]:\n",
    "        led.off()\n",
    "        time.sleep(0.1)\n"
   ]
  },
  {
   "cell_type": "code",
   "execution_count": null,
   "metadata": {},
   "outputs": [],
   "source": []
  }
 ],
 "metadata": {
  "kernelspec": {
   "display_name": "Python 3",
   "language": "python",
   "name": "python3"
  },
  "language_info": {
   "codemirror_mode": {
    "name": "ipython",
    "version": 3
   },
   "file_extension": ".py",
   "mimetype": "text/x-python",
   "name": "python",
   "nbconvert_exporter": "python",
   "pygments_lexer": "ipython3",
   "version": "3.6.9"
  }
 },
 "nbformat": 4,
 "nbformat_minor": 4
}
