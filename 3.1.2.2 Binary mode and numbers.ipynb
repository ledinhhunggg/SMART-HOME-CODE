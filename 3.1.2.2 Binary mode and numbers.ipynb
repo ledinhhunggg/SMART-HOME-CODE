{
 "cells": [
  {
   "cell_type": "code",
   "execution_count": 1,
   "metadata": {},
   "outputs": [
    {
     "name": "stdout",
     "output_type": "stream",
     "text": [
      "65000\n",
      "127\n",
      "True\n",
      "65000\n",
      "127\n",
      "True\n"
     ]
    }
   ],
   "source": [
    "def set_4byte(array, base, n):\n",
    "    for i in range(4):\n",
    "        array[base+i] = (n >> i*8) & 0xFF\n",
    "\n",
    "with open(\"test_bin\", \"bw+\") as f:\n",
    "    f.write(str(65000).encode())\n",
    "    f.write(str(127).encode())\n",
    "    f.write(str(True).encode())\n",
    "    \n",
    "    f.seek(0)\n",
    "    print(int(f.read(5).decode()))\n",
    "    print(int(f.read(3).decode()))\n",
    "    print(bool(f.read(4).decode()))\n",
    "    \n",
    "    d = bytearray((\" \"  * 6).encode())\n",
    "    set_4byte(d, 0, 65000)\n",
    "    d[4] = 127\n",
    "    d[5] = int(True)\n",
    "    f.write(d)\n",
    "    \n",
    "    import io\n",
    "    f.seek(-6, io.SEEK_END)\n",
    "    print(int.from_bytes(f.read(4), 'little'))\n",
    "    print(int.from_bytes(f.read(1), 'little'))\n",
    "    print(bool.from_bytes(f.read(1), 'little'))"
   ]
  },
  {
   "cell_type": "code",
   "execution_count": null,
   "metadata": {},
   "outputs": [],
   "source": []
  }
 ],
 "metadata": {
  "kernelspec": {
   "display_name": "Python 3",
   "language": "python",
   "name": "python3"
  },
  "language_info": {
   "codemirror_mode": {
    "name": "ipython",
    "version": 3
   },
   "file_extension": ".py",
   "mimetype": "text/x-python",
   "name": "python",
   "nbconvert_exporter": "python",
   "pygments_lexer": "ipython3",
   "version": "3.6.9"
  }
 },
 "nbformat": 4,
 "nbformat_minor": 4
}
