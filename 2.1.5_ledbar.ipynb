{
 "cells": [
  {
   "cell_type": "code",
   "execution_count": 1,
   "metadata": {},
   "outputs": [],
   "source": [
    "from pop import ShiftRegister\n",
    "import time \n",
    "\n",
    "gpio = [16,5,6]\n",
    "s = ShiftRegister(gpio)\n",
    "\n",
    "s.shiftout(0xff)\n",
    "time.sleep(1)\n",
    "s.shiftout(0x00)\n",
    "time.sleep(1)\n",
    "s.shiftout(0x00)\n"
   ]
  },
  {
   "cell_type": "code",
   "execution_count": null,
   "metadata": {},
   "outputs": [],
   "source": []
  }
 ],
 "metadata": {
  "kernelspec": {
   "display_name": "Python 3",
   "language": "python",
   "name": "python3"
  },
  "language_info": {
   "codemirror_mode": {
    "name": "ipython",
    "version": 3
   },
   "file_extension": ".py",
   "mimetype": "text/x-python",
   "name": "python",
   "nbconvert_exporter": "python",
   "pygments_lexer": "ipython3",
   "version": "3.6.9"
  }
 },
 "nbformat": 4,
 "nbformat_minor": 4
}
