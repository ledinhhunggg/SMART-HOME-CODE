{
 "cells": [
  {
   "cell_type": "code",
   "execution_count": 2,
   "metadata": {},
   "outputs": [
    {
     "name": "stdout",
     "output_type": "stream",
     "text": [
      "First Result:\n",
      "(23, 2)\n",
      "(25, 2)\n",
      "\n",
      "Second Result:\n",
      "(25, 2)\n"
     ]
    }
   ],
   "source": [
    "import sqlite3 as db\n",
    "\n",
    "with db.connect(\"test.db\") as conn:\n",
    "    c = conn.cursor()\n",
    "\n",
    "    c.execute(\"SELECT age, count() FROM PersonInfo GROUP BY age HAVING count() >= 2\")\n",
    "    print(\"First Result:\")\n",
    "    for r in c:\n",
    "        print(r)\n",
    "\n",
    "    c.execute(\"SELECT age, count() FROM PersonInfo WHERE addr GLOB 'Sungnam*' GROUP BY age\")\n",
    "    print(\"\\nSecond Result:\")\n",
    "    for r in c:\n",
    "        print(r)\n"
   ]
  },
  {
   "cell_type": "code",
   "execution_count": null,
   "metadata": {},
   "outputs": [],
   "source": []
  }
 ],
 "metadata": {
  "kernelspec": {
   "display_name": "Python 3",
   "language": "python",
   "name": "python3"
  },
  "language_info": {
   "codemirror_mode": {
    "name": "ipython",
    "version": 3
   },
   "file_extension": ".py",
   "mimetype": "text/x-python",
   "name": "python",
   "nbconvert_exporter": "python",
   "pygments_lexer": "ipython3",
   "version": "3.7.3"
  }
 },
 "nbformat": 4,
 "nbformat_minor": 4
}
