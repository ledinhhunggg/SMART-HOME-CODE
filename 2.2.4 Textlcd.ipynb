{
 "cells": [
  {
   "cell_type": "code",
   "execution_count": 1,
   "metadata": {},
   "outputs": [],
   "source": [
    "from pop import Textlcd \n",
    "import time\n",
    "\n",
    "lcd = Textlcd()\n",
    "\n",
    "lcd.clear()\n",
    "lcd.cursorOn(1)\n",
    "time.sleep(1)\n",
    "lcd.cursorShiftR()\n",
    "time.sleep(1)\n",
    "lcd.cursorShiftL() \n",
    "time.sleep(1)\n",
    "lcd.setCursor(10,2)\n",
    "time.sleep(1)\n",
    "lcd.cursorOff()\n"
   ]
  },
  {
   "cell_type": "code",
   "execution_count": 2,
   "metadata": {},
   "outputs": [],
   "source": [
    "from pop import Textlcd \n",
    "import time\n",
    "\n",
    "lcd = Textlcd()\n",
    "\n",
    "str = \"Hello AIoT Home\"\n",
    "time.sleep(1)\n",
    "lcd.clear() \n",
    "lcd.print(str)\n",
    "time.sleep(1)\n",
    "lcd.displayShiftR()\n",
    "time.sleep(1)\n",
    "lcd.displayShiftL()\n",
    "time.sleep(1)\n",
    "lcd.displayOff()\n",
    "time.sleep(1)\n",
    "lcd.displayOn()\n",
    "time.sleep(1)\n"
   ]
  },
  {
   "cell_type": "code",
   "execution_count": null,
   "metadata": {},
   "outputs": [],
   "source": []
  }
 ],
 "metadata": {
  "kernelspec": {
   "display_name": "Python 3",
   "language": "python",
   "name": "python3"
  },
  "language_info": {
   "codemirror_mode": {
    "name": "ipython",
    "version": 3
   },
   "file_extension": ".py",
   "mimetype": "text/x-python",
   "name": "python",
   "nbconvert_exporter": "python",
   "pygments_lexer": "ipython3",
   "version": "3.6.9"
  }
 },
 "nbformat": 4,
 "nbformat_minor": 4
}
