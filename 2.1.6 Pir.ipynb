{
 "cells": [
  {
   "cell_type": "code",
   "execution_count": 1,
   "metadata": {},
   "outputs": [
    {
     "name": "stdout",
     "output_type": "stream",
     "text": [
      "detect...\n",
      "detect...\n",
      "detect...\n",
      "detect...\n"
     ]
    },
    {
     "ename": "KeyboardInterrupt",
     "evalue": "",
     "output_type": "error",
     "traceback": [
      "\u001b[0;31m---------------------------------------------------------------------------\u001b[0m",
      "\u001b[0;31mKeyboardInterrupt\u001b[0m                         Traceback (most recent call last)",
      "\u001b[0;32m<ipython-input-1-4a01a424a2cc>\u001b[0m in \u001b[0;36m<module>\u001b[0;34m\u001b[0m\n\u001b[1;32m     10\u001b[0m         \u001b[0mtime\u001b[0m\u001b[0;34m.\u001b[0m\u001b[0msleep\u001b[0m\u001b[0;34m(\u001b[0m\u001b[0;36m2\u001b[0m\u001b[0;34m)\u001b[0m\u001b[0;34m\u001b[0m\u001b[0;34m\u001b[0m\u001b[0m\n\u001b[1;32m     11\u001b[0m     \u001b[0;32melse\u001b[0m\u001b[0;34m:\u001b[0m\u001b[0;34m\u001b[0m\u001b[0;34m\u001b[0m\u001b[0m\n\u001b[0;32m---> 12\u001b[0;31m         \u001b[0mtime\u001b[0m\u001b[0;34m.\u001b[0m\u001b[0msleep\u001b[0m\u001b[0;34m(\u001b[0m\u001b[0;36m0.1\u001b[0m\u001b[0;34m)\u001b[0m\u001b[0;34m\u001b[0m\u001b[0;34m\u001b[0m\u001b[0m\n\u001b[0m",
      "\u001b[0;31mKeyboardInterrupt\u001b[0m: "
     ]
    }
   ],
   "source": [
    "from pop import Pir\n",
    "import time\n",
    "\n",
    "pir = Pir(22)\n",
    "\n",
    "while True:\n",
    "    ret = pir.read()\n",
    "    if (ret == True):\n",
    "        print(\"detect...\")\n",
    "        time.sleep(2)\n",
    "    else:\n",
    "        time.sleep(0.1)\n"
   ]
  },
  {
   "cell_type": "code",
   "execution_count": 2,
   "metadata": {},
   "outputs": [
    {
     "name": "stdout",
     "output_type": "stream",
     "text": [
      "detect...\n",
      "detect...\n",
      "detect...\n",
      "detect...\n",
      "detect...\n",
      "detect...\n",
      "detect...\n"
     ]
    },
    {
     "name": "stdin",
     "output_type": "stream",
     "text": [
      "Press <Enter> Key...\n",
      " hung\n"
     ]
    },
    {
     "data": {
      "text/plain": [
       "'hung'"
      ]
     },
     "execution_count": 2,
     "metadata": {},
     "output_type": "execute_result"
    },
    {
     "name": "stdout",
     "output_type": "stream",
     "text": [
      "detect...\n",
      "detect...\n",
      "detect...\n",
      "detect...\n",
      "detect...\n",
      "detect...\n",
      "detect...\n",
      "detect...\n",
      "detect...\n",
      "detect...\n",
      "detect...\n",
      "detect...\n",
      "detect...\n",
      "detect...\n",
      "detect...\n",
      "detect...\n",
      "detect...\n",
      "detect...\n",
      "detect...\n",
      "detect...\n",
      "detect...\n",
      "detect...\n",
      "detect...\n",
      "detect...\n",
      "detect...\n",
      "detect...\n",
      "detect...\n",
      "detect...\n",
      "detect...\n",
      "detect...\n",
      "detect...\n",
      "detect...\n",
      "detect...\n",
      "detect...\n",
      "detect...\n",
      "detect...\n",
      "detect...\n",
      "detect...\n",
      "detect...\n",
      "detect...\n",
      "detect...\n",
      "detect...\n",
      "detect...\n",
      "detect...\n",
      "detect...\n",
      "detect...\n",
      "detect...\n",
      "detect...\n",
      "detect...\n",
      "detect...\n",
      "detect...\n",
      "detect...\n",
      "detect...\n",
      "detect...\n",
      "detect...\n",
      "detect...\n",
      "detect...\n",
      "detect...\n",
      "detect...\n",
      "detect...\n",
      "detect...\n",
      "detect...\n",
      "detect...\n",
      "detect...\n",
      "detect...\n",
      "detect...\n",
      "detect...\n",
      "detect...\n",
      "detect...\n",
      "detect...\n",
      "detect...\n",
      "detect...\n",
      "detect...\n",
      "detect...\n",
      "detect...\n",
      "detect...\n",
      "detect...\n"
     ]
    }
   ],
   "source": [
    "from pop import Pir\n",
    "import time\n",
    "\n",
    "pir = Pir(22)\n",
    "\n",
    "def onPir(param):\n",
    "    ret = pir.read()\n",
    "    if (ret == True):\n",
    "        print(\"detect...\")\n",
    "        time.sleep(2)\n",
    "    else:\n",
    "        time.sleep(0.1)\n",
    "\n",
    "pir.setCallback(onPir)\n",
    "input(\"Press <Enter> Key...\\n\")\n"
   ]
  },
  {
   "cell_type": "code",
   "execution_count": null,
   "metadata": {},
   "outputs": [],
   "source": []
  }
 ],
 "metadata": {
  "kernelspec": {
   "display_name": "Python 3",
   "language": "python",
   "name": "python3"
  },
  "language_info": {
   "codemirror_mode": {
    "name": "ipython",
    "version": 3
   },
   "file_extension": ".py",
   "mimetype": "text/x-python",
   "name": "python",
   "nbconvert_exporter": "python",
   "pygments_lexer": "ipython3",
   "version": "3.6.9"
  }
 },
 "nbformat": 4,
 "nbformat_minor": 4
}
