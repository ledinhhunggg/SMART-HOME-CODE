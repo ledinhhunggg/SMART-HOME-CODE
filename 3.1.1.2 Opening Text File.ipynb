{
 "cells": [
  {
   "cell_type": "code",
   "execution_count": 1,
   "metadata": {},
   "outputs": [
    {
     "name": "stdout",
     "output_type": "stream",
     "text": [
      "w\n",
      "poem\n",
      "True\n"
     ]
    }
   ],
   "source": [
    "f = open(\"poem\", \"w\")\n",
    "print(f.mode)\n",
    "print(f.name)\n",
    "\n",
    "f.close()\n",
    "print(f.closed)"
   ]
  },
  {
   "cell_type": "code",
   "execution_count": 2,
   "metadata": {},
   "outputs": [
    {
     "name": "stdout",
     "output_type": "stream",
     "text": [
      "utf-8\n",
      "w\n",
      "poem\n",
      "False\n",
      "True\n"
     ]
    }
   ],
   "source": [
    "with open(\"poem\", \"w\", encoding=\"utf-8\") as f:\n",
    "    print(f.encoding)\n",
    "    print(f.mode)\n",
    "    print(f.name)\n",
    "    print(f.closed)\n",
    "    \n",
    "print(f.closed)"
   ]
  },
  {
   "cell_type": "code",
   "execution_count": null,
   "metadata": {},
   "outputs": [],
   "source": []
  }
 ],
 "metadata": {
  "kernelspec": {
   "display_name": "Python 3",
   "language": "python",
   "name": "python3"
  },
  "language_info": {
   "codemirror_mode": {
    "name": "ipython",
    "version": 3
   },
   "file_extension": ".py",
   "mimetype": "text/x-python",
   "name": "python",
   "nbconvert_exporter": "python",
   "pygments_lexer": "ipython3",
   "version": "3.6.9"
  }
 },
 "nbformat": 4,
 "nbformat_minor": 4
}
