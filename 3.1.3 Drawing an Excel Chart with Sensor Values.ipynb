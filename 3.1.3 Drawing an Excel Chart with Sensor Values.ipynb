{
 "cells": [
  {
   "cell_type": "code",
   "execution_count": 1,
   "metadata": {},
   "outputs": [
    {
     "name": "stdout",
     "output_type": "stream",
     "text": [
      "Temperature, Humidity\n",
      " 30,  29\n",
      " 30,  29\n",
      " 30,  29\n",
      " 30,  29\n",
      " 30,  29\n",
      " 30,  29\n",
      " 30,  29\n",
      " 30,  29\n",
      " 30,  29\n",
      " 30,  29\n",
      " 30,  29\n",
      " 30,  29\n",
      " 30,  29\n",
      " 30,  29\n",
      " 30,  29\n",
      " 30,  29\n",
      " 30,  29\n",
      " 30,  29\n",
      " 30,  29\n",
      " 30,  29\n",
      " 30,  29\n",
      " 30,  29\n",
      " 30,  29\n",
      " 30,  29\n",
      " 30,  29\n",
      " 30,  29\n",
      " 30,  29\n",
      " 30,  29\n",
      " 30,  29\n",
      " 30,  29\n",
      " 30,  29\n",
      " 30,  29\n",
      " 30,  29\n",
      " 30,  29\n",
      " 30,  29\n",
      " 30,  29\n",
      " 30,  29\n",
      " 30,  29\n",
      " 30,  29\n",
      " 30,  29\n",
      " 30,  29\n",
      " 30,  29\n",
      " 30,  29\n",
      " 30,  29\n",
      " 30,  29\n",
      " 30,  29\n",
      " 30,  29\n",
      " 30,  29\n",
      " 30,  29\n",
      " 30,  29\n",
      " 30,  29\n",
      " 30,  29\n",
      " 30,  29\n",
      " 30,  29\n",
      " 30,  29\n",
      " 30,  29\n",
      " 30,  29\n",
      " 30,  29\n",
      " 30,  29\n"
     ]
    }
   ],
   "source": [
    "from pop import TempHumi\n",
    "import time\n",
    "\n",
    "th = TempHumi()\n",
    "\n",
    "with open(\"sensors\", \"w+\", encoding=\"utf-8\") as f:\n",
    "    try:\n",
    "        f.write(\"Temperature, Humidity\\n\")\n",
    "\n",
    "        while True:\n",
    "            valTemp = th.getTemperature()\n",
    "            valHumi = th.getHumidity()\n",
    "            data = \"%3d, %3d\\n\"%(valTemp, valHumi)\n",
    "            f.write(data)\n",
    "            time.sleep(0.5)\n",
    "    except KeyboardInterrupt:\n",
    "        import io\n",
    "        f.seek(0, io.SEEK_SET)\n",
    "\n",
    "        for l in f:\n",
    "            print(l, end='')"
   ]
  },
  {
   "cell_type": "code",
   "execution_count": null,
   "metadata": {},
   "outputs": [],
   "source": []
  }
 ],
 "metadata": {
  "kernelspec": {
   "display_name": "Python 3",
   "language": "python",
   "name": "python3"
  },
  "language_info": {
   "codemirror_mode": {
    "name": "ipython",
    "version": 3
   },
   "file_extension": ".py",
   "mimetype": "text/x-python",
   "name": "python",
   "nbconvert_exporter": "python",
   "pygments_lexer": "ipython3",
   "version": "3.6.9"
  }
 },
 "nbformat": 4,
 "nbformat_minor": 4
}
