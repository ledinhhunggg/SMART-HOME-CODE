{
 "cells": [
  {
   "cell_type": "code",
   "execution_count": null,
   "metadata": {},
   "outputs": [],
   "source": [
    "from pop import TempHumi\n",
    "import struct\n",
    "import time\n",
    "\n",
    "def write_bitmap_header(f, bfSize):  \n",
    "    f.write(struct.pack(\"H\", 0x4D42))\n",
    "    f.write(struct.pack(\"I\", bfSize))\n",
    "    f.write(struct.pack(\"H\", 0))\n",
    "    f.write(struct.pack(\"H\", 0))\n",
    "    f.write(struct.pack(\"I\", 54))\n",
    "\n",
    "def write_bitmap_info_header(f, biWidth, biHeight, biByteCount, biSizeImage):\n",
    "    f.write(struct.pack(\"I\", 40))\n",
    "    f.write(struct.pack(\"I\", biWidth))\n",
    "    f.write(struct.pack(\"I\", biHeight))\n",
    "    f.write(struct.pack(\"H\", 1))\n",
    "    f.write(struct.pack(\"H\", biByteCount * 8))\n",
    "    f.write(struct.pack(\"I\", 0))\n",
    "    f.write(struct.pack(\"I\", biSizeImage))\n",
    "    f.write(struct.pack(\"I\", 0))\n",
    "    f.write(struct.pack(\"I\", 0))\n",
    "    f.write(struct.pack(\"I\", 0))\n",
    "    f.write(struct.pack(\"I\", 0))\n",
    "\n",
    "def set_rgb(array, base, n):\n",
    "    array[base+0] = (n >> 0) & 0xFF\n",
    "    array[base+1] = (n >> 8) & 0xFF\n",
    "    array[base+2] = (n >> 16) & 0xFF\n",
    "    \n",
    "th = TempHumi()\n",
    "\n",
    "with open(\"sensorArt.bmp\", \"bw\") as f:     \n",
    "    biWidth = 20\n",
    "    biHeight = 20\n",
    "    biByteCount = 3\n",
    "    biSizeImage = biWidth * biHeight * biByteCount\n",
    "    bfSize = biSizeImage + 54\n",
    "\n",
    "    write_bitmap_header(f, bfSize)\n",
    "    write_bitmap_info_header(f, biWidth, biHeight, biByteCount, biSizeImage)\n",
    "\n",
    "    data = bytearray((\" \" * biSizeImage).encode())\n",
    "    for i in range(biHeight):\n",
    "        for j in range(0, biWidth * 3, 3):\n",
    "            valTemp = int(th.getTemperature())\n",
    "            valHumi = int(th.getHumidity())\n",
    "            \n",
    "            print(\"Temp: %d, Humi: %d\" % (valTemp, valHumi))\n",
    "\n",
    "            r = valTemp & 0xFF\n",
    "            g = ((valTemp >> 8) & 0xFF) | ((valHumi >> 8) & 0xFF)\n",
    "            b = valHumi & 0xFF\n",
    "\n",
    "            pixel = (r << 16 | g << 8 | b) & 0xFFFFFF\n",
    "            set_rgb(data, i * (biWidth * 3) + j, pixel)\n",
    "            \n",
    "            time.sleep(0.01)\n",
    "\n",
    "    f.write(data)\n"
   ]
  },
  {
   "cell_type": "code",
   "execution_count": null,
   "metadata": {},
   "outputs": [],
   "source": []
  }
 ],
 "metadata": {
  "kernelspec": {
   "display_name": "Python 3",
   "language": "python",
   "name": "python3"
  },
  "language_info": {
   "codemirror_mode": {
    "name": "ipython",
    "version": 3
   },
   "file_extension": ".py",
   "mimetype": "text/x-python",
   "name": "python",
   "nbconvert_exporter": "python",
   "pygments_lexer": "ipython3",
   "version": "3.6.9"
  }
 },
 "nbformat": 4,
 "nbformat_minor": 4
}
