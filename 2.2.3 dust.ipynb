{
 "cells": [
  {
   "cell_type": "code",
   "execution_count": 1,
   "metadata": {},
   "outputs": [
    {
     "name": "stdout",
     "output_type": "stream",
     "text": [
      "PM 1.0 GRIM  : 62 ㎍/㎥\n",
      "PM 2.5 GRIM  : 65 ㎍/㎥\n",
      "PM 10  GRIM  : 67 ㎍/㎥\n",
      "PM 1.0 GRIM  : 62 ㎍/㎥\n",
      "PM 2.5 GRIM  : 65 ㎍/㎥\n",
      "PM 10  GRIM  : 68 ㎍/㎥\n",
      "PM 1.0 GRIM  : 62 ㎍/㎥\n",
      "PM 2.5 GRIM  : 65 ㎍/㎥\n",
      "PM 10  GRIM  : 68 ㎍/㎥\n",
      "PM 1.0 GRIM  : 62 ㎍/㎥\n",
      "PM 2.5 GRIM  : 65 ㎍/㎥\n",
      "PM 10  GRIM  : 68 ㎍/㎥\n",
      "PM 1.0 GRIM  : 62 ㎍/㎥\n",
      "PM 2.5 GRIM  : 65 ㎍/㎥\n",
      "PM 10  GRIM  : 68 ㎍/㎥\n",
      "PM 1.0 GRIM  : 62 ㎍/㎥\n",
      "PM 2.5 GRIM  : 65 ㎍/㎥\n",
      "PM 10  GRIM  : 68 ㎍/㎥\n"
     ]
    },
    {
     "ename": "KeyboardInterrupt",
     "evalue": "",
     "output_type": "error",
     "traceback": [
      "\u001b[0;31m---------------------------------------------------------------------------\u001b[0m",
      "\u001b[0;31mKeyboardInterrupt\u001b[0m                         Traceback (most recent call last)",
      "\u001b[0;32m<ipython-input-1-cb419369d9a9>\u001b[0m in \u001b[0;36m<module>\u001b[0;34m\u001b[0m\n\u001b[1;32m      8\u001b[0m     \u001b[0mprint\u001b[0m\u001b[0;34m(\u001b[0m\u001b[0;34m\"PM 2.5 GRIM  : %u ㎍/㎥\"\u001b[0m\u001b[0;34m%\u001b[0m\u001b[0mdust\u001b[0m\u001b[0;34m.\u001b[0m\u001b[0mpm_2p5_grimm\u001b[0m\u001b[0;34m)\u001b[0m\u001b[0;34m\u001b[0m\u001b[0;34m\u001b[0m\u001b[0m\n\u001b[1;32m      9\u001b[0m     \u001b[0mprint\u001b[0m\u001b[0;34m(\u001b[0m\u001b[0;34m\"PM 10  GRIM  : %u ㎍/㎥\"\u001b[0m\u001b[0;34m%\u001b[0m\u001b[0mdust\u001b[0m\u001b[0;34m.\u001b[0m\u001b[0mpm_10_grimm\u001b[0m\u001b[0;34m)\u001b[0m\u001b[0;34m\u001b[0m\u001b[0;34m\u001b[0m\u001b[0m\n\u001b[0;32m---> 10\u001b[0;31m     \u001b[0mtime\u001b[0m\u001b[0;34m.\u001b[0m\u001b[0msleep\u001b[0m\u001b[0;34m(\u001b[0m\u001b[0;36m0.5\u001b[0m\u001b[0;34m)\u001b[0m\u001b[0;34m\u001b[0m\u001b[0;34m\u001b[0m\u001b[0m\n\u001b[0m",
      "\u001b[0;31mKeyboardInterrupt\u001b[0m: "
     ]
    }
   ],
   "source": [
    "from pop import Dust\n",
    "import time \n",
    "\n",
    "dust = Dust()\n",
    "while True:\n",
    "    dust.read()\n",
    "    print(\"PM 1.0 GRIM  : %u ㎍/㎥\"%dust.pm_1p0_grimm)\n",
    "    print(\"PM 2.5 GRIM  : %u ㎍/㎥\"%dust.pm_2p5_grimm)\n",
    "    print(\"PM 10  GRIM  : %u ㎍/㎥\"%dust.pm_10_grimm)\n",
    "    time.sleep(0.5)\n"
   ]
  },
  {
   "cell_type": "code",
   "execution_count": null,
   "metadata": {},
   "outputs": [],
   "source": []
  }
 ],
 "metadata": {
  "kernelspec": {
   "display_name": "Python 3",
   "language": "python",
   "name": "python3"
  },
  "language_info": {
   "codemirror_mode": {
    "name": "ipython",
    "version": 3
   },
   "file_extension": ".py",
   "mimetype": "text/x-python",
   "name": "python",
   "nbconvert_exporter": "python",
   "pygments_lexer": "ipython3",
   "version": "3.6.9"
  }
 },
 "nbformat": 4,
 "nbformat_minor": 4
}
