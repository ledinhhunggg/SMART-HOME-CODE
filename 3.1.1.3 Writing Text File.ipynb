{
 "cells": [
  {
   "cell_type": "code",
   "execution_count": 1,
   "metadata": {},
   "outputs": [
    {
     "name": "stdout",
     "output_type": "stream",
     "text": [
      "4\n",
      "102\n"
     ]
    }
   ],
   "source": [
    "with open(\"poem\", \"w\", encoding=\"utf-8\") as f:\n",
    "    f.write(\"Ivy\\n\")\n",
    "    print(f.tell())\n",
    "\n",
    "    poem = [\"\\n\",\n",
    "            \"That's the wall\\n\",\n",
    "            \"When we feel that it's an unavoidable wall\\n\",\n",
    "            \"then\\n\",\n",
    "            \"The ivy climbs the wall silently\\n\"]\n",
    "\n",
    "    f.writelines(poem)\n",
    "    print(f.tell())"
   ]
  },
  {
   "cell_type": "code",
   "execution_count": null,
   "metadata": {},
   "outputs": [],
   "source": []
  }
 ],
 "metadata": {
  "kernelspec": {
   "display_name": "Python 3",
   "language": "python",
   "name": "python3"
  },
  "language_info": {
   "codemirror_mode": {
    "name": "ipython",
    "version": 3
   },
   "file_extension": ".py",
   "mimetype": "text/x-python",
   "name": "python",
   "nbconvert_exporter": "python",
   "pygments_lexer": "ipython3",
   "version": "3.6.9"
  }
 },
 "nbformat": 4,
 "nbformat_minor": 4
}
