{
 "cells": [
  {
   "cell_type": "code",
   "execution_count": 4,
   "metadata": {},
   "outputs": [
    {
     "ename": "OperationalError",
     "evalue": "table PersonInfo already exists",
     "output_type": "error",
     "traceback": [
      "\u001b[0;31m---------------------------------------------------------------------------\u001b[0m",
      "\u001b[0;31mOperationalError\u001b[0m                          Traceback (most recent call last)",
      "\u001b[0;32m<ipython-input-4-ecf448d69a02>\u001b[0m in \u001b[0;36m<module>\u001b[0;34m\u001b[0m\n\u001b[1;32m      8\u001b[0m     \u001b[0mname\u001b[0m \u001b[0mTEXT\u001b[0m \u001b[0mNOT\u001b[0m \u001b[0mNULL\u001b[0m\u001b[0;34m,\u001b[0m\u001b[0;34m\u001b[0m\u001b[0;34m\u001b[0m\u001b[0m\n\u001b[1;32m      9\u001b[0m     \u001b[0mage\u001b[0m \u001b[0mINTEGER\u001b[0m\u001b[0;34m,\u001b[0m\u001b[0;34m\u001b[0m\u001b[0;34m\u001b[0m\u001b[0m\n\u001b[0;32m---> 10\u001b[0;31m     addr TEXT\"\"\")\n\u001b[0m\u001b[1;32m     11\u001b[0m \u001b[0;34m\u001b[0m\u001b[0m\n\u001b[1;32m     12\u001b[0m     \u001b[0mc\u001b[0m\u001b[0;34m.\u001b[0m\u001b[0mexecute\u001b[0m\u001b[0;34m(\u001b[0m\u001b[0;34m\"INSERT INTO PersonInfo VALUES (1, 'chanmin', 25, 'Seoul, Kangnam')\"\u001b[0m\u001b[0;34m)\u001b[0m\u001b[0;34m\u001b[0m\u001b[0;34m\u001b[0m\u001b[0m\n",
      "\u001b[0;31mOperationalError\u001b[0m: table PersonInfo already exists"
     ]
    }
   ],
   "source": [
    "import sqlite3 as db\n",
    "\n",
    "with db.connect(\"test.db\") as conn:\n",
    "    c = conn.cursor()\n",
    "\n",
    "    c.execute(\"\"\"CREATE TABLE PersonInfo \n",
    "    (id INTEGER NOT NULL,\n",
    "    name TEXT NOT NULL,\n",
    "    age INTEGER,\n",
    "    addr TEXT)\"\"\")\n",
    "\n",
    "    c.execute(\"INSERT INTO PersonInfo VALUES (1, 'chanmin', 25, 'Seoul, Kangnam')\")\n",
    "    c.execute(\"INSERT INTO PersonInfo VALUES (2, 'mijung', 25, 'Sungnam, BunDang')\")\n",
    "    c.execute(\"INSERT INTO PersonInfo VALUES (3, 'Kayinn', 20, 'Pusan, Danhyun')\")\n",
    "    c.execute(\"INSERT INTO PersonInfo VALUES (4, 'SooHun', 18, 'Daejeon, NamChun')\")\n",
    "    c.execute(\"INSERT INTO PersonInfo VALUES (5, 'SooJin', 18, 'Daejeon, NamChun')\")\n",
    "\n",
    "    conn.commit()"
   ]
  },
  {
   "cell_type": "code",
   "execution_count": null,
   "metadata": {},
   "outputs": [],
   "source": []
  }
 ],
 "metadata": {
  "kernelspec": {
   "display_name": "Python 3",
   "language": "python",
   "name": "python3"
  },
  "language_info": {
   "codemirror_mode": {
    "name": "ipython",
    "version": 3
   },
   "file_extension": ".py",
   "mimetype": "text/x-python",
   "name": "python",
   "nbconvert_exporter": "python",
   "pygments_lexer": "ipython3",
   "version": "3.6.9"
  }
 },
 "nbformat": 4,
 "nbformat_minor": 4
}
