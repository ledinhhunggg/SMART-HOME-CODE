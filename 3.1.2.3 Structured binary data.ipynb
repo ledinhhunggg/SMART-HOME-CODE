{
 "cells": [
  {
   "cell_type": "code",
   "execution_count": 1,
   "metadata": {},
   "outputs": [
    {
     "name": "stdout",
     "output_type": "stream",
     "text": [
      "(65000, 127, True)\n"
     ]
    }
   ],
   "source": [
    "with open(\"test_bin\", \"bw+\") as f:   \n",
    "    import struct\n",
    "    f.write(struct.pack(\"ib?\", 65000, 127, True))\n",
    "    \n",
    "    import io\n",
    "    f.seek(-6, io.SEEK_END)\n",
    "    print(struct.unpack(\"ib?\", f.read(6)))"
   ]
  },
  {
   "cell_type": "code",
   "execution_count": 2,
   "metadata": {},
   "outputs": [
    {
     "name": "stdout",
     "output_type": "stream",
     "text": [
      "Gas Heater Index:  0\n",
      "Gas Heater Duration:  150\n",
      "Gas Heater Temperature:  320\n",
      "1 (0, 37)\n",
      "2 (27, 37)\n",
      "3 (27, 37)\n",
      "4 (27, 37)\n",
      "5 (28, 37)\n",
      "6 (28, 37)\n",
      "7 (29, 37)\n",
      "8 (29, 37)\n",
      "9 (29, 37)\n",
      "10 (30, 37)\n"
     ]
    }
   ],
   "source": [
    "from pop import TempHumi \n",
    "from time import sleep\n",
    "import struct\n",
    "\n",
    "file_name = \"bsensors\"\n",
    "\n",
    "th = TempHumi()\n",
    "\n",
    "with open(file_name, \"bw\" ) as f:   \n",
    "    for _ in range(10):\n",
    "        valTemp = int(th.getTemperature())\n",
    "        valHumi = int(th.getHumidity())\n",
    "\n",
    "        f.write(struct.pack(\"2i\", valTemp, valHumi))\n",
    "        sleep(0.1)\n",
    "\n",
    "with open(file_name, \"br\") as f:    \n",
    "    for i in range(1, 10+1):\n",
    "        buf = f.read(4*2)\n",
    "        x = struct.unpack(\"2i\", buf)\n",
    "        print(i, x)"
   ]
  },
  {
   "cell_type": "code",
   "execution_count": null,
   "metadata": {},
   "outputs": [],
   "source": []
  }
 ],
 "metadata": {
  "kernelspec": {
   "display_name": "Python 3",
   "language": "python",
   "name": "python3"
  },
  "language_info": {
   "codemirror_mode": {
    "name": "ipython",
    "version": 3
   },
   "file_extension": ".py",
   "mimetype": "text/x-python",
   "name": "python",
   "nbconvert_exporter": "python",
   "pygments_lexer": "ipython3",
   "version": "3.6.9"
  }
 },
 "nbformat": 4,
 "nbformat_minor": 4
}
