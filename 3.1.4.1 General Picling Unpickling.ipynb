{
 "cells": [
  {
   "cell_type": "code",
   "execution_count": 1,
   "metadata": {},
   "outputs": [
    {
     "name": "stdout",
     "output_type": "stream",
     "text": [
      "<class 'str'> IoT World!\n",
      "<class 'list'> [1, 2, 3]\n",
      "<class 'float'> 3.1415\n",
      "<class 'dict'> {65: 'A', 66: 'B', 67: 'C'}\n"
     ]
    }
   ],
   "source": [
    "import pickle\n",
    "\n",
    "with open(\"serialization\", \"bw+\") as f:\n",
    "    pickle.dump(\"IoT World!\", f)\n",
    "    pickle.dump([1, 2, 3], f)\n",
    "    pickle.dump(3.1415, f)\n",
    "    pickle.dump({65:'A', 66:'B', 67:'C'}, f)\n",
    "\n",
    "with open(\"serialization\", \"br+\") as f:\n",
    "    for _ in range(4):\n",
    "        ret = pickle.load(f)\n",
    "        print(type(ret), ret)"
   ]
  },
  {
   "cell_type": "code",
   "execution_count": null,
   "metadata": {},
   "outputs": [],
   "source": []
  }
 ],
 "metadata": {
  "kernelspec": {
   "display_name": "Python 3",
   "language": "python",
   "name": "python3"
  },
  "language_info": {
   "codemirror_mode": {
    "name": "ipython",
    "version": 3
   },
   "file_extension": ".py",
   "mimetype": "text/x-python",
   "name": "python",
   "nbconvert_exporter": "python",
   "pygments_lexer": "ipython3",
   "version": "3.6.9"
  }
 },
 "nbformat": 4,
 "nbformat_minor": 4
}
