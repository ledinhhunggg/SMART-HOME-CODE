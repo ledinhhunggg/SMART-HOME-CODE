{
 "cells": [
  {
   "cell_type": "code",
   "execution_count": null,
   "metadata": {},
   "outputs": [],
   "source": [
    "import sqlite3 as db\n",
    "\n",
    "datas = (('mijung', 25, 'Sungnam, BunDang'),\n",
    "          ('Kayinn', 20, 'Pusan, Danhyun'),\n",
    "          ('Soohun', 19, 'Daejeon, NamChun'),\n",
    "          ('sooji', 23, 'Seoul, KangNam'))\n",
    "\n",
    "with db.connect(\"test.db\") as conn:\n",
    "    try:\n",
    "        c = conn.cursor()\n",
    "        \n",
    "        for data in datas:\n",
    "            c.execute(\"INSERT INTO PersonInfo(name, age, addr) VALUES(?, ?, ?)\", data)\n",
    "        conn.commit()\n",
    "    except (db.OperationalError, db.IntegrityError) as e:\n",
    "        conn.rollback()\n",
    "        print(e)\n",
    "    \n",
    "    c.execute(\"SELECT * FROM PersonInfo WHERE age >= :old\", {'old':25})\n",
    "    for r in c:\n",
    "        print(r)\n"
   ]
  },
  {
   "cell_type": "code",
   "execution_count": null,
   "metadata": {},
   "outputs": [],
   "source": [
    "import sqlite3 as db\n",
    "\n",
    "datas2 = [('hana', 23, 'Suwon, Yeongtong'),\n",
    "          ('jiyong', 21, 'Bucheon, Wonmi'),\n",
    "          ('cheonlee', 25, 'Sungnam, Gumi')]\n",
    "\n",
    "with db.connect(\"test.db\") as conn:\n",
    "    try:\n",
    "        c = conn.cursor()\n",
    "        \n",
    "        c.executemany(\"INSERT INTO PersonInfo(name, age, addr) VALUES(?, ?, ?)\", datas2)\n",
    "        conn.commit()\n",
    "    except (db.OperationalError, db.IntegrityError) as e:\n",
    "        conn.rollback()\n",
    "        print(e)\n",
    "    \n",
    "    c.execute(\"SELECT * FROM PersonInfo\")\n",
    "    for r in c:\n",
    "        print(r)"
   ]
  },
  {
   "cell_type": "code",
   "execution_count": null,
   "metadata": {},
   "outputs": [],
   "source": []
  }
 ],
 "metadata": {
  "kernelspec": {
   "display_name": "Python 3",
   "language": "python",
   "name": "python3"
  },
  "language_info": {
   "codemirror_mode": {
    "name": "ipython",
    "version": 3
   },
   "file_extension": ".py",
   "mimetype": "text/x-python",
   "name": "python",
   "nbconvert_exporter": "python",
   "pygments_lexer": "ipython3",
   "version": "3.7.3"
  }
 },
 "nbformat": 4,
 "nbformat_minor": 4
}
