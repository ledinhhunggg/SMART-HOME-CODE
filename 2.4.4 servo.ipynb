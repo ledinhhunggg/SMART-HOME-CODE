{
 "cells": [
  {
   "cell_type": "code",
   "execution_count": null,
   "metadata": {},
   "outputs": [],
   "source": [
    "from pop import PwmController\n",
    "import time\n",
    "\n",
    "pwm = PwmController()\n",
    "pwm.init()\n",
    "pwm.setChannel(3)\n",
    "pwm.setFreq(50)\n",
    "while True:\n",
    "    pwm.setDuty((0.5/20)*100)\n",
    "    time.sleep(3)\n",
    "    pwm.setDuty((1.5/20)*100)\n",
    "    time.sleep(3)\n",
    "    pwm.setDuty((2.5/20)*100)\n",
    "    time.sleep(3)\n"
   ]
  },
  {
   "cell_type": "code",
   "execution_count": null,
   "metadata": {},
   "outputs": [],
   "source": []
  }
 ],
 "metadata": {
  "kernelspec": {
   "display_name": "Python 3",
   "language": "python",
   "name": "python3"
  },
  "language_info": {
   "codemirror_mode": {
    "name": "ipython",
    "version": 3
   },
   "file_extension": ".py",
   "mimetype": "text/x-python",
   "name": "python",
   "nbconvert_exporter": "python",
   "pygments_lexer": "ipython3",
   "version": "3.6.9"
  }
 },
 "nbformat": 4,
 "nbformat_minor": 4
}
