{
 "cells": [
  {
   "cell_type": "code",
   "execution_count": 1,
   "metadata": {},
   "outputs": [
    {
     "name": "stdout",
     "output_type": "stream",
     "text": [
      "Gas Heater Index:  0\n",
      "Gas Heater Duration:  150\n",
      "Gas Heater Temperature:  320\n",
      "0, 0, \n",
      "33.7, 27.671, \n",
      "33.61, 27.671, \n",
      "33.61, 27.671, \n",
      "33.61, 27.668, \n",
      "33.73, 27.657, \n",
      "33.73, 27.657, \n",
      "33.73, 27.645, \n",
      "33.9, 27.634, \n",
      "33.9, 27.634, \n"
     ]
    }
   ],
   "source": [
    "from pop import TempHumi\n",
    "import pickle\n",
    "import time\n",
    "\n",
    "th = TempHumi()\n",
    "\n",
    "with open(\"psensors\", \"bw+\") as f:\n",
    "    for _ in range(10):\n",
    "        valTemp = th.getTemperature()\n",
    "        valHumi = th.getHumidity()\n",
    "\n",
    "        pickle.dump(valTemp, f)\n",
    "        pickle.dump(valHumi, f)\n",
    "\n",
    "        time.sleep(0.1)\n",
    "\n",
    "with open(\"psensors\", \"br+\") as f:\n",
    "    for _ in range(10):\n",
    "        for _ in range(2):\n",
    "            ret = pickle.load(f)\n",
    "            print(ret, end=', ')\n",
    "        print()"
   ]
  },
  {
   "cell_type": "code",
   "execution_count": null,
   "metadata": {},
   "outputs": [],
   "source": []
  }
 ],
 "metadata": {
  "kernelspec": {
   "display_name": "Python 3",
   "language": "python",
   "name": "python3"
  },
  "language_info": {
   "codemirror_mode": {
    "name": "ipython",
    "version": 3
   },
   "file_extension": ".py",
   "mimetype": "text/x-python",
   "name": "python",
   "nbconvert_exporter": "python",
   "pygments_lexer": "ipython3",
   "version": "3.7.3"
  }
 },
 "nbformat": 4,
 "nbformat_minor": 4
}
