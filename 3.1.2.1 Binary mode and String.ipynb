{
 "cells": [
  {
   "cell_type": "code",
   "execution_count": 1,
   "metadata": {},
   "outputs": [
    {
     "name": "stdout",
     "output_type": "stream",
     "text": [
      "While rowing\n",
      "I missed the oar.\n",
      "for the first time\n",
      "Wide water\n",
      "Looked around\n"
     ]
    }
   ],
   "source": [
    "with open(\"poem3\", \"bw+\") as f:\n",
    "    datas = [\"While rowing\\n\",\n",
    "             \"I missed the oar.\\n\",\n",
    "             \"for the first time\\n\",\n",
    "             \"Wide water\\n\",\n",
    "             \"Looked around\\n\"]\n",
    "    \n",
    "    for line in datas:\n",
    "        f.write(line.encode())\n",
    "\n",
    "    f.seek(0)\n",
    "    \n",
    "    for line in f:\n",
    "        print(line.decode(), end='')"
   ]
  },
  {
   "cell_type": "code",
   "execution_count": 2,
   "metadata": {},
   "outputs": [
    {
     "name": "stdout",
     "output_type": "stream",
     "text": [
      "While rowing\n",
      "I missed the oar.\n",
      "for the first time\n",
      "Wide water\n",
      "Looked around\n"
     ]
    }
   ],
   "source": [
    "with open(\"poem3\", \"bw+\") as f:\n",
    "    datas = [\"While rowing\\n\",\n",
    "             \"I missed the oar.\\n\",\n",
    "             \"for the first time\\n\",\n",
    "             \"Wide water\\n\",\n",
    "             \"Looked around\\n\"]\n",
    "    \n",
    "    for line in datas:\n",
    "        f.write(line.encode())\n",
    "\n",
    "    f.seek(0)\n",
    "    \n",
    "    for line in f:\n",
    "        pos = 0\n",
    "        line_len = len(line)\n",
    "        while pos < line_len:\n",
    "            if line[pos] > 0xE0: \n",
    "                print(line[pos:pos+3].decode(), end='')\n",
    "                pos += 3\n",
    "            else:\n",
    "                print(chr(line[pos]), end='')\n",
    "                pos += 1"
   ]
  },
  {
   "cell_type": "code",
   "execution_count": null,
   "metadata": {},
   "outputs": [],
   "source": []
  }
 ],
 "metadata": {
  "kernelspec": {
   "display_name": "Python 3",
   "language": "python",
   "name": "python3"
  },
  "language_info": {
   "codemirror_mode": {
    "name": "ipython",
    "version": 3
   },
   "file_extension": ".py",
   "mimetype": "text/x-python",
   "name": "python",
   "nbconvert_exporter": "python",
   "pygments_lexer": "ipython3",
   "version": "3.6.9"
  }
 },
 "nbformat": 4,
 "nbformat_minor": 4
}
