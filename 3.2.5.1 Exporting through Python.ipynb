{
 "cells": [
  {
   "cell_type": "code",
   "execution_count": null,
   "metadata": {},
   "outputs": [],
   "source": [
    "import sqlite3 as db\n",
    "\n",
    "with db.connect(\"test.db\") as conn:\n",
    "    conn.row_factory = db.Row\n",
    "    \n",
    "    c = conn.cursor()    \n",
    "    c.execute(\"SELECT * FROM PersonInfo\")\n",
    "\n",
    "    row = c.fetchone()\n",
    "    writeRow = \",\".join([str(i) for i in row.keys()]) + '\\n'\n",
    "    \n",
    "    with open(\"data.csv\", \"wb\") as file:\n",
    "        file.write(writeRow.encode())\n",
    "        for data in c.execute(\"SELECT * FROM PersonInfo\"):\n",
    "            writeStr = [str(i).replace(',', '') for i in data]\n",
    "            writeRow = \",\".join(writeStr) + '\\n'\n",
    "            file.write(writeRow.encode())\n"
   ]
  },
  {
   "cell_type": "code",
   "execution_count": null,
   "metadata": {},
   "outputs": [],
   "source": []
  }
 ],
 "metadata": {
  "kernelspec": {
   "display_name": "Python 3",
   "language": "python",
   "name": "python3"
  },
  "language_info": {
   "codemirror_mode": {
    "name": "ipython",
    "version": 3
   },
   "file_extension": ".py",
   "mimetype": "text/x-python",
   "name": "python",
   "nbconvert_exporter": "python",
   "pygments_lexer": "ipython3",
   "version": "3.7.3"
  }
 },
 "nbformat": 4,
 "nbformat_minor": 4
}
