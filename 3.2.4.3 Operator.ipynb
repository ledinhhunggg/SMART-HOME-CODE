{
 "cells": [
  {
   "cell_type": "code",
   "execution_count": null,
   "metadata": {},
   "outputs": [],
   "source": [
    "import sqlite3 as db\n",
    "\n",
    "with db.connect(\"test.db\") as conn:\n",
    "    c = conn.cursor()\n",
    "\n",
    "    c.execute(\"SELECT name, age FROM PersonInfo WHERE age BETWEEN 21 AND 23\")\n",
    "    print(\"First Result:\")\n",
    "    for r in c:\n",
    "        print(r)\n",
    "\n",
    "    c.execute(\"SELECT name, age, addr FROM PersonInfo WHERE name IN ('sooji', 'mijung')\")\n",
    "    print(\"\\nSecond Result:\")\n",
    "    for r in c:\n",
    "        print(r)\n",
    "\n",
    "    c.execute(\"SELECT name, age + 1, addr FROM PersonInfo WHERE addr GLOB 'Sungnam*'\")\n",
    "    print(\"\\nLast Result:\")\n",
    "    for r in c:\n",
    "        print(r)"
   ]
  },
  {
   "cell_type": "code",
   "execution_count": null,
   "metadata": {},
   "outputs": [],
   "source": []
  }
 ],
 "metadata": {
  "kernelspec": {
   "display_name": "Python 3",
   "language": "python",
   "name": "python3"
  },
  "language_info": {
   "codemirror_mode": {
    "name": "ipython",
    "version": 3
   },
   "file_extension": ".py",
   "mimetype": "text/x-python",
   "name": "python",
   "nbconvert_exporter": "python",
   "pygments_lexer": "ipython3",
   "version": "3.7.3"
  }
 },
 "nbformat": 4,
 "nbformat_minor": 4
}
