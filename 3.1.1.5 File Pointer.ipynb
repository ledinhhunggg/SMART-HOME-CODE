{
 "cells": [
  {
   "cell_type": "code",
   "execution_count": 1,
   "metadata": {},
   "outputs": [
    {
     "name": "stdout",
     "output_type": "stream",
     "text": [
      "fp: 13, data: While rowing\n",
      "fp: 31, data: I missed the oar.\n",
      "current fp: 75\n",
      "While rowing\n",
      "I missed the oar.\n",
      "for the first time\n",
      "Wide water\n",
      "Looked around\n",
      "current fp: 75\n"
     ]
    }
   ],
   "source": [
    "with open(\"poem2\", \"w+\", encoding=\"utf-8\") as f:\n",
    "    datas = [\"While rowing\\n\",\n",
    "             \"I missed the oar.\\n\",\n",
    "             \"for the first time\\n\",\n",
    "             \"Wide water\\n\",\n",
    "             \"Looked around\\n\"]\n",
    "    \n",
    "    f.write(datas[0])\n",
    "    print(\"fp: {}, data: {}\".format(f.tell(), datas[0]), end='')\n",
    "\n",
    "    f.write(datas[1])\n",
    "    print(\"fp: {}, data: {}\".format(f.tell(), datas[1]), end='')\n",
    "\n",
    "    f.writelines(datas[2:])\n",
    "    print(\"current fp: {}\".format(f.tell()))\n",
    "    \n",
    "    import io\n",
    "    f.seek(0, io.SEEK_SET)\n",
    "    \n",
    "    for l in f:\n",
    "        print(l, end='')\n",
    "    \n",
    "    print(\"current fp: {}\".format(f.tell()))"
   ]
  },
  {
   "cell_type": "code",
   "execution_count": null,
   "metadata": {},
   "outputs": [],
   "source": []
  }
 ],
 "metadata": {
  "kernelspec": {
   "display_name": "Python 3",
   "language": "python",
   "name": "python3"
  },
  "language_info": {
   "codemirror_mode": {
    "name": "ipython",
    "version": 3
   },
   "file_extension": ".py",
   "mimetype": "text/x-python",
   "name": "python",
   "nbconvert_exporter": "python",
   "pygments_lexer": "ipython3",
   "version": "3.6.9"
  }
 },
 "nbformat": 4,
 "nbformat_minor": 4
}
