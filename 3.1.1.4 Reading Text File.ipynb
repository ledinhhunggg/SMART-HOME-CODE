{
 "cells": [
  {
   "cell_type": "code",
   "execution_count": 1,
   "metadata": {},
   "outputs": [
    {
     "name": "stdout",
     "output_type": "stream",
     "text": [
      "Ivy\n",
      "\n",
      "That's the wall\n",
      "When we feel that it's an unavoidable wall\n",
      "then\n",
      "The ivy climbs the wall silently\n"
     ]
    }
   ],
   "source": [
    "with open(\"poem\", \"r\", encoding=\"utf-8\") as f:\n",
    "    s = f.read(4)\n",
    "    print(s, end='')\n",
    "    \n",
    "    s = f.read(1)\n",
    "    print(s, end='')\n",
    "    \n",
    "    s = f.read(6)\n",
    "    print(s, end='')\n",
    "    \n",
    "    s = f.read()\n",
    "    print(s, end='')"
   ]
  },
  {
   "cell_type": "code",
   "execution_count": 2,
   "metadata": {},
   "outputs": [
    {
     "name": "stdout",
     "output_type": "stream",
     "text": [
      "['Ivy\\n', '\\n', \"That's the wall\\n\"]\n",
      "When we/ feel that it's an unavoidable wall\n",
      "['then\\n', 'The ivy climbs the wall silently\\n']\n"
     ]
    }
   ],
   "source": [
    "with open(\"poem\", \"r\", encoding=\"utf-8\") as f:\n",
    "    s = f.readlines(8)\n",
    "    print(s)\n",
    "    \n",
    "    s = f.readline(7)\n",
    "    print(\"{}/\".format(s), end='')    \n",
    "\n",
    "    s = f.readline()\n",
    "    print(s, end='')    \n",
    "\n",
    "    s = f.readlines()\n",
    "    print(s)"
   ]
  },
  {
   "cell_type": "code",
   "execution_count": 3,
   "metadata": {},
   "outputs": [
    {
     "name": "stdout",
     "output_type": "stream",
     "text": [
      "line: 6, word: 19, char(exclude '\\n'): 96\n"
     ]
    }
   ],
   "source": [
    "with open(\"poem\", \"r\", encoding=\"utf-8\") as f:\n",
    "    line = 0\n",
    "    word = 0\n",
    "    char = 0\n",
    "         \n",
    "    for l in f:\n",
    "        line += 1\n",
    "        word += len(l.split())\n",
    "        for ch in l:\n",
    "            if ch != \"\\n\":\n",
    "                char += 1\n",
    "\n",
    "    print(\"line: {}, word: {}, char(exclude '\\\\n'): {}\".format(line, word, char))"
   ]
  },
  {
   "cell_type": "code",
   "execution_count": null,
   "metadata": {},
   "outputs": [],
   "source": []
  }
 ],
 "metadata": {
  "kernelspec": {
   "display_name": "Python 3",
   "language": "python",
   "name": "python3"
  },
  "language_info": {
   "codemirror_mode": {
    "name": "ipython",
    "version": 3
   },
   "file_extension": ".py",
   "mimetype": "text/x-python",
   "name": "python",
   "nbconvert_exporter": "python",
   "pygments_lexer": "ipython3",
   "version": "3.6.9"
  }
 },
 "nbformat": 4,
 "nbformat_minor": 4
}
